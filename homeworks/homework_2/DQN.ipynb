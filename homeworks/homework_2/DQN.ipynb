{
 "cells": [
  {
   "metadata": {},
   "cell_type": "markdown",
   "source": [
    "Домашнее задание\n",
    "Задача с конечным набором дискретных действий\n",
    "\n",
    "Цель:\n",
    "В процессе выполнения задания вы проведёте первичный анализ поставленной задачи и выберете подходящий алгоритм.\n",
    "Для успешного выполнения задания вам потребуется:\n",
    "\n",
    "понимание отличий между средами с дискретными и непрерывным набором действий;\n",
    "навык оценки задачи и выбора подходящего алгоритма;\n",
    "навык разработки несложных алгоритмов на Python;\n",
    "навык реализации нейронных сетей с использованием фреймворка PyTorch;\n",
    "навык отладки алгоритма и выбора оптимальных гиперпараметров.\n",
    "\n",
    "Описание/Пошаговая инструкция выполнения домашнего задания:\n",
    "Пошаговая инструкция:\n",
    "\n",
    "\n",
    "реализуйте алгоритм DQN с реплей буффером и мягким обновлением целевой сети;\n",
    "обучите агента в среде Lunar Lander;\n",
    "представьте исходный код, обученного агента и график средней награды за эпизод и средней наградой за 100 эпизодов по мере обучения агента.\n",
    "Формат сдачи:\n",
    "\n",
    "\n",
    "ссылка на проект на Github или другой хостинг кода;\n",
    "Примерное время выполнения: 3-5 часов.\n",
    "\n",
    "Критерии оценки:\n",
    "Работа выполнена студентом (работа является уникальной).\n",
    "Работа оформлена в соответствии с форматом сдачи.\n",
    "Средняя награда за эпизод демонстрирует рост по мере обучения агента.\n",
    "Статус \"Принято\" ставится при выполнении всех критериев.\n",
    "\n",
    "Компетенции:\n",
    "Deep Reinforcement Learning\n",
    "- понимать DQN и его компоненты, а также модификаций DQN\n",
    "- понимать основы работы алгоритмов на основе политик\n",
    "- понимать аппроксимации функций и политик с использованием нейронных сетей в обучении с подкреплением"
   ],
   "id": "e02e85dbad3c9757"
  },
  {
   "metadata": {
    "ExecuteTime": {
     "end_time": "2024-09-11T08:11:49.863273Z",
     "start_time": "2024-09-11T08:11:48.667713Z"
    }
   },
   "cell_type": "code",
   "source": [
    "import gymnasium as gym\n",
    "import math\n",
    "import random\n",
    "import matplotlib.pyplot as plt\n",
    "from collections import namedtuple, deque\n",
    "from itertools import count\n",
    "import numpy as np\n",
    "from tqdm import tqdm\n",
    "\n",
    "import torch\n",
    "import torch.nn as nn\n",
    "import torch.optim as optim\n",
    "import torch.nn.functional as F"
   ],
   "id": "667c0880cae768b4",
   "outputs": [],
   "execution_count": 1
  },
  {
   "metadata": {
    "ExecuteTime": {
     "end_time": "2024-09-11T08:11:49.890880Z",
     "start_time": "2024-09-11T08:11:49.864266Z"
    }
   },
   "cell_type": "code",
   "source": [
    "plt.style.use('fivethirtyeight')\n",
    "\n",
    "device = torch.device(\"cuda\" if torch.cuda.is_available() else \"cpu\")\n",
    "device"
   ],
   "id": "3bd66b407b836b5d",
   "outputs": [
    {
     "data": {
      "text/plain": [
       "device(type='cuda')"
      ]
     },
     "execution_count": 2,
     "metadata": {},
     "output_type": "execute_result"
    }
   ],
   "execution_count": 2
  },
  {
   "metadata": {},
   "cell_type": "markdown",
   "source": "# DQN with ReplayBuffer and soft uplay target net's weights",
   "id": "4d61d776ce21912e"
  },
  {
   "metadata": {
    "ExecuteTime": {
     "end_time": "2024-09-11T08:11:49.896761Z",
     "start_time": "2024-09-11T08:11:49.891876Z"
    }
   },
   "cell_type": "code",
   "source": [
    "class ReplayMemory(object):\n",
    "\n",
    "    def __init__(self, capacity):\n",
    "        self.memory = deque([], maxlen=capacity)\n",
    "\n",
    "    def push(self, *args):\n",
    "        \"\"\"Save a transition\"\"\"\n",
    "        self.memory.append(Transition(*args))\n",
    "\n",
    "    def sample(self, batch_size):\n",
    "        return random.sample(self.memory, batch_size)\n",
    "\n",
    "    def __len__(self):\n",
    "        return len(self.memory)"
   ],
   "id": "eaeb1ddcc1191e41",
   "outputs": [],
   "execution_count": 3
  },
  {
   "metadata": {
    "ExecuteTime": {
     "end_time": "2024-09-11T08:11:49.904761Z",
     "start_time": "2024-09-11T08:11:49.898762Z"
    }
   },
   "cell_type": "code",
   "source": [
    "class DQN(nn.Module):\n",
    "\n",
    "    def __init__(self, n_observations, n_actions):\n",
    "        super(DQN, self).__init__()\n",
    "        self.layer1 = nn.Linear(n_observations, 128)\n",
    "        self.layer2 = nn.Linear(128, 128)\n",
    "        self.layer3 = nn.Linear(128, n_actions)\n",
    "\n",
    "    # Called with either one element to determine next action, or a batch\n",
    "    # during optimization. Returns tensor([[left0exp,right0exp]...]).\n",
    "    def forward(self, x):\n",
    "        x = F.relu(self.layer1(x))\n",
    "        x = F.relu(self.layer2(x))\n",
    "        return self.layer3(x)"
   ],
   "id": "70c6fa0f62e600fd",
   "outputs": [],
   "execution_count": 4
  },
  {
   "metadata": {
    "ExecuteTime": {
     "end_time": "2024-09-11T08:11:50.580538Z",
     "start_time": "2024-09-11T08:11:49.905763Z"
    }
   },
   "cell_type": "code",
   "source": [
    "Transition = namedtuple('Transition', ('state', 'action', 'next_state', 'reward'))\n",
    "\n",
    "# BATCH_SIZE - количество эпизодов, отобранных из буфера воспроизведения\n",
    "# GAMMA - коэффициент дисконтирования\n",
    "# EPS_START - начальное значение эпсилон\n",
    "# EPS_END - конечное значение эпсилон\n",
    "# EPS_DECAY - скорость экспоненциального спада эпсилон, чем больше - тем медленнее падение\n",
    "# TAU - скорость обновления целевой сети\n",
    "# LR - скорость обучения оптимизатора ``AdamW``.\n",
    "\n",
    "BATCH_SIZE = 128\n",
    "GAMMA = 0.99\n",
    "EPS_START = 0.9\n",
    "EPS_END = 0.05\n",
    "EPS_DECAY = 1000\n",
    "TAU = 0.005\n",
    "LR = 1e-4\n",
    "FULL_MEMORY_LENGTH = 10000\n",
    "SEED = 123\n",
    "\n",
    "# Среда\n",
    "env = gym.make('LunarLander-v2')\n",
    "\n",
    "# Получить число действий\n",
    "n_actions = env.action_space.n\n",
    "# Получить число степеней свободы состояний\n",
    "state, info = env.reset(seed=SEED)\n",
    "n_observations = len(state)\n",
    "\n",
    "# Инициилизировать сети: целевую и политики\n",
    "policy_net = DQN(n_observations, n_actions).to(device)\n",
    "target_net = DQN(n_observations, n_actions).to(device)\n",
    "\n",
    "# Подгрузить в целевую сеть коэффициенты из сети политики\n",
    "target_net.load_state_dict(policy_net.state_dict())\n",
    "\n",
    "# Задать оптимайзер\n",
    "optimizer = optim.AdamW(policy_net.parameters(), lr=LR, amsgrad=True)\n",
    "\n",
    "# Инициализировать Replay Memory buffer\n",
    "memory = ReplayMemory(FULL_MEMORY_LENGTH)\n",
    "\n",
    "\n",
    "steps_done = 0\n",
    "\n",
    "#     массив длительности эпизода - пойдет в отчет о том, сколько продержался агент\n",
    "episode_durations = []"
   ],
   "id": "f79de9566239636b",
   "outputs": [],
   "execution_count": 5
  },
  {
   "metadata": {
    "ExecuteTime": {
     "end_time": "2024-09-11T08:11:50.584523Z",
     "start_time": "2024-09-11T08:11:50.580538Z"
    }
   },
   "cell_type": "code",
   "source": [
    "# еpsilon-жадная стратегия выбора действия\n",
    "def select_action(state):\n",
    "    global steps_done  # глобальный шаг для убывания epsilon\n",
    "#     случайное значение для определения какой шаг будем делать жадный или случайный\n",
    "    sample = random.random()\n",
    "    \n",
    "#     установка порога принятия решения - уровня epsilon\n",
    "    eps_threshold = EPS_END + (EPS_START - EPS_END) * \\\n",
    "        math.exp(-1. * steps_done / EPS_DECAY)\n",
    "    \n",
    "#     увеличиваем счетчик шагов\n",
    "    steps_done += 1\n",
    "    \n",
    "#     если случайный порог больше epsilon-порога\n",
    "    if sample > eps_threshold:\n",
    "        with torch.no_grad():\n",
    "            # t.max(1) вернет наибольшее значение столбца в каждой строке.\n",
    "            # Второй столбец в результате max - это индекс того места, \n",
    "            # где был найден максимальный элемент, \n",
    "            # поэтому мы выбираем действие с наибольшим ожидаемым вознаграждением.\n",
    "            return policy_net(state).max(1)[1].view(1, 1)\n",
    "    else:\n",
    "        # Иначе выбираем случайное действие\n",
    "        return torch.tensor([[env.action_space.sample()]], device=device, dtype=torch.long)"
   ],
   "id": "5a9a81d2a1d3a6d5",
   "outputs": [],
   "execution_count": 6
  },
  {
   "metadata": {
    "ExecuteTime": {
     "end_time": "2024-09-11T08:11:50.590739Z",
     "start_time": "2024-09-11T08:11:50.585522Z"
    }
   },
   "cell_type": "code",
   "source": [
    "def optimize_model(batch_size: int):\n",
    "    if len(memory) < batch_size:\n",
    "        return\n",
    "    \n",
    "    # Получить из памяти батч\n",
    "    transitions = memory.sample(batch_size)\n",
    "    # Преобразовать его в namedtuple\n",
    "    batch = Transition(*zip(*transitions))\n",
    "\n",
    "    # Вычислить маску нефинальных состояний и соединить элементы батча\n",
    "    # (финальным состоянием должно быть то, после которого моделирование закончилось)\n",
    "\n",
    "    non_final_mask = torch.tensor(tuple(map(lambda s: s is not None,\n",
    "                                        batch.next_state)), device=device, dtype=torch.bool)\n",
    "    \n",
    "    non_final_next_states = torch.cat([s for s in batch.next_state\n",
    "                                                if s is not None])\n",
    "    \n",
    "    # Собираем батчи для состояний, действий и наград\n",
    "    state_batch = torch.cat(batch.state)\n",
    "    action_batch = torch.cat(batch.action)\n",
    "    reward_batch = torch.cat(batch.reward)\n",
    "\n",
    "    # Вычислить Q(s_t, a) - модель вычисляет Q(s_t), \n",
    "    # затем мы выбираем столбцы предпринятых действий. \n",
    "    # Это те действия, которые были бы предприняты для каждого состояния партии в соответствии с policy_net\n",
    "    state_action_values = policy_net(state_batch).gather(1, action_batch)\n",
    "\n",
    "    # Вычислить V(s_{t+1}) для всех следующих состояний.\n",
    "    # Ожидаемые значения действий для не_финальных_следующих_состояний вычисляются \n",
    "    # на основе \"старшей\" целевой_сети; выбирается их наилучшее вознаграждение с помощью max(1)[0].\n",
    "    # Это объединяется по маске, так что мы будем иметь либо ожидаемое значение состояния, \n",
    "    # либо 0, если состояние было финальным.\n",
    "    next_state_values = torch.zeros(batch_size, device=device)\n",
    "    with torch.no_grad():\n",
    "        next_state_values[non_final_mask] = target_net(non_final_next_states).max(1)[0]\n",
    "    # Вычисляем ожидаемые Q значения\n",
    "    expected_state_action_values = (next_state_values * GAMMA) + reward_batch\n",
    "\n",
    "    # Объединяем все в общий лосс\n",
    "    criterion = nn.SmoothL1Loss()\n",
    "    loss = criterion(state_action_values, expected_state_action_values.unsqueeze(1))\n",
    "\n",
    "    # Готовим градиент\n",
    "    optimizer.zero_grad()\n",
    "    loss.backward()\n",
    "    # Обрезаем значения градиента - проблемма исчезающего/взрывающего градиента\n",
    "    torch.nn.utils.clip_grad_value_(policy_net.parameters(), 100)\n",
    "    \n",
    "    optimizer.step()"
   ],
   "id": "586ad17c323bedbb",
   "outputs": [],
   "execution_count": 7
  },
  {
   "metadata": {
    "ExecuteTime": {
     "end_time": "2024-09-11T08:57:10.397556Z",
     "start_time": "2024-09-11T08:11:50.590739Z"
    }
   },
   "cell_type": "code",
   "source": [
    "if torch.cuda.is_available():\n",
    "    num_episodes = 1500\n",
    "else:\n",
    "    num_episodes = 500\n",
    "total_reward = []\n",
    "\n",
    "for i_episode in tqdm(range(num_episodes)):\n",
    "    episode_reward = 0\n",
    "    # Для каждого эпизода инициализируем начальное состояние\n",
    "    state, info = env.reset(seed=SEED)\n",
    "    state = torch.tensor(state, dtype=torch.float32, device=device).unsqueeze(0)\n",
    "    \n",
    "    # выполняем действия пока не получим флаг done\n",
    "    # t - считает сколько шагов успели сделать пока шест не упал\n",
    "    for t in count():\n",
    "        # выбираем действие [0, 1]\n",
    "        action = select_action(state)\n",
    "        # Делаем шаг\n",
    "        observation, reward, terminated, truncated, _ = env.step(action.item())\n",
    "        episode_reward += reward\n",
    "\n",
    "        # Преобразуем в тензор\n",
    "        reward = torch.tensor([reward], device=device)\n",
    "        \n",
    "        # Объединяем done по двум конечным состояниям\n",
    "        done = terminated or truncated\n",
    "        \n",
    "        # присваиваем следующее состояние\n",
    "        if terminated:\n",
    "            next_state = None\n",
    "        else:\n",
    "            next_state = torch.tensor(observation, dtype=torch.float32, device=device).unsqueeze(0)\n",
    "\n",
    "        # отправляем в память\n",
    "        memory.push(state, action, next_state, reward)\n",
    "\n",
    "        # переходим на следующее состояние\n",
    "        state = next_state\n",
    "\n",
    "        # запускаем обучение сети\n",
    "        optimize_model(batch_size=128)\n",
    "\n",
    "        # делаем \"мягкое\" обновление весов\n",
    "        # θ′ ← τ θ + (1 −τ )θ′\n",
    "        target_net_state_dict = target_net.state_dict()\n",
    "        policy_net_state_dict = policy_net.state_dict()\n",
    "        \n",
    "        for key in policy_net_state_dict:\n",
    "            target_net_state_dict[key] = policy_net_state_dict[key]*TAU + target_net_state_dict[key]*(1-TAU)\n",
    "        target_net.load_state_dict(target_net_state_dict)\n",
    "        \n",
    "        # Если получили terminated or truncated завершаем эпизод обучения\n",
    "        if done:\n",
    "            # добавляем в массив продолжительность эпизода\n",
    "            episode_durations.append(t + 1)\n",
    "            total_reward.append(episode_reward)\n",
    "            break\n",
    "\n",
    "print('Complete')"
   ],
   "id": "f1ee41a2ce059e55",
   "outputs": [
    {
     "name": "stderr",
     "output_type": "stream",
     "text": [
      "100%|██████████| 1500/1500 [45:19<00:00,  1.81s/it] "
     ]
    },
    {
     "name": "stdout",
     "output_type": "stream",
     "text": [
      "Complete\n"
     ]
    },
    {
     "name": "stderr",
     "output_type": "stream",
     "text": [
      "\n"
     ]
    }
   ],
   "execution_count": 8
  },
  {
   "metadata": {
    "ExecuteTime": {
     "end_time": "2024-09-11T08:58:45.999559Z",
     "start_time": "2024-09-11T08:58:45.872526Z"
    }
   },
   "cell_type": "code",
   "source": [
    "# Вычисление скользящего среднего\n",
    "window_size = 100\n",
    "moving_avg = np.convolve(total_reward, np.ones(window_size)/window_size, mode='valid')\n",
    "\n",
    "plt.plot(total_reward)\n",
    "plt.plot(moving_avg)\n",
    "plt.title('DQN + ReplayBuffer')\n",
    "plt.xlabel('Episode')\n",
    "plt.ylabel('Reward')\n",
    "plt.show()"
   ],
   "id": "1362883c60b7cf55",
   "outputs": [
    {
     "data": {
      "text/plain": [
       "<Figure size 640x480 with 1 Axes>"
      ],
      "image/png": "[encoded data removed]"
     },
     "metadata": {},
     "output_type": "display_data"
    }
   ],
   "execution_count": 12
  },
  {
   "metadata": {},
   "cell_type": "markdown",
   "source": "# Вывод",
   "id": "aaeb4d3db9149b"
  },
  {
   "metadata": {},
   "cell_type": "markdown",
   "source": "Сложно делать выводы, пока просто изучаю алгоритмы и способы их применения. Одного курса точно мало, чтобы научится в этом ориентироваться.",
   "id": "a9289ddc2ad4767b"
  }
 ],
 "metadata": {
  "kernelspec": {
   "display_name": "Python 3",
   "language": "python",
   "name": "python3"
  },
  "language_info": {
   "codemirror_mode": {
    "name": "ipython",
    "version": 2
   },
   "file_extension": ".py",
   "mimetype": "text/x-python",
   "name": "python",
   "nbconvert_exporter": "python",
   "pygments_lexer": "ipython2",
   "version": "2.7.6"
  }
 },
 "nbformat": 4,
 "nbformat_minor": 5
}
