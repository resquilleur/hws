{
 "cells": [
  {
   "cell_type": "code",
   "id": "initial_id",
   "metadata": {
    "collapsed": true,
    "ExecuteTime": {
     "end_time": "2024-09-27T12:01:05.440781Z",
     "start_time": "2024-09-27T12:01:05.367745Z"
    }
   },
   "source": [
    "from collections import defaultdict, deque\n",
    "from random import random\n",
    "\n",
    "import gymnasium as gym\n",
    "import numpy as np\n",
    "import random\n",
    "import imageio\n",
    "import os\n",
    "import matplotlib.pyplot as plt\n",
    "\n",
    "plt.style.use('fivethirtyeight')"
   ],
   "outputs": [],
   "execution_count": 1
  },
  {
   "metadata": {
    "ExecuteTime": {
     "end_time": "2024-09-27T12:01:05.446018Z",
     "start_time": "2024-09-27T12:01:05.441749Z"
    }
   },
   "cell_type": "code",
   "source": [
    "class Agent:\n",
    "    def __init__(\n",
    "            self,\n",
    "            start_epsilon=1,\n",
    "            epsilon_decay=0.9,\n",
    "            epsilon_cut=0.1,\n",
    "            alpha=0.01,\n",
    "            gamma=1,\n",
    "            number_of_actions=6\n",
    "                 ):\n",
    "        self.epsilon = start_epsilon\n",
    "        self.epsilon_decay = epsilon_decay\n",
    "        self.epsilon_cut = epsilon_cut\n",
    "        self.alpha = alpha\n",
    "        self.gamma = gamma\n",
    "        self.na = number_of_actions\n",
    "        self.model = {}\n",
    "        self.Q = defaultdict(lambda: np.zeros(self.na))\n",
    "        \n",
    "    def select_action(self, state):\n",
    "        r = random.random()\n",
    "        if r > self.epsilon:\n",
    "            return np.argmax(self.Q[state])\n",
    "        else:\n",
    "            return random.randint(0, self.na-1)\n",
    "        \n",
    "    def step(self, state, action, reward, next_state, done):\n",
    "        if not done:\n",
    "            self.Q[state][action] += self.alpha * (\n",
    "                reward + self.gamma * np.max(self.Q[next_state]) - self.Q[state][action]\n",
    "            )\n",
    "        else:\n",
    "            self.Q[state][action] += self.alpha * (reward - self.Q[state][action])\n",
    "            self.epsilon *= self.epsilon_decay\n",
    "            if self.epsilon_cut is not None:\n",
    "                self.epsilon = max(self.epsilon, self.epsilon_cut)"
   ],
   "id": "f42410f3a08ef188",
   "outputs": [],
   "execution_count": 2
  },
  {
   "metadata": {
    "ExecuteTime": {
     "end_time": "2024-09-27T12:01:05.455993Z",
     "start_time": "2024-09-27T12:01:05.447016Z"
    }
   },
   "cell_type": "code",
   "source": [
    "# Dyna-Q parameters\n",
    "n_planning_steps = 5\n",
    "epsilon_cut = 0\n",
    "epsilon_decay = 0.8888782926665223\n",
    "start_epsilon = 0.9957089031634627\n",
    "gamma = 0.7749915552696941\n",
    "alpha = 0.2512238484351891\n",
    "\n",
    "num_episodes = 10000\n",
    "window = 100\n",
    "\n",
    "env = gym.make('Taxi-v3')\n",
    "number_of_actions = env.action_space.n\n",
    "agent = Agent(\n",
    "    start_epsilon=start_epsilon,\n",
    "    epsilon_decay=epsilon_decay,\n",
    "    epsilon_cut=epsilon_cut,\n",
    "    alpha=alpha,\n",
    "    gamma=gamma,\n",
    "    number_of_actions=number_of_actions,\n",
    ")"
   ],
   "id": "da83101bac9043b1",
   "outputs": [],
   "execution_count": 3
  },
  {
   "metadata": {
    "ExecuteTime": {
     "end_time": "2024-09-27T12:01:25.875863Z",
     "start_time": "2024-09-27T12:01:05.456973Z"
    }
   },
   "cell_type": "code",
   "source": [
    "avg_rewards = deque(maxlen=num_episodes)\n",
    "best_avg_reward = -np.inf\n",
    "reward_threshold = 9.7\n",
    "\n",
    "sampled_rewards = deque(maxlen=window)\n",
    "\n",
    "for episode in range(1, num_episodes+1):\n",
    "    state, info = env.reset()\n",
    "    sampled_reward = 0\n",
    "    \n",
    "    while True:\n",
    "        # agent select an action\n",
    "        action = agent.select_action(state)\n",
    "        # agent permorms the selected action\n",
    "        next_state, reward, terminated, truncated, _ = env.step(action)\n",
    "        done = terminated or truncated\n",
    "        \n",
    "        # agent performs internal updates based on sampled experience\n",
    "        agent.step(state, action, reward, next_state, done)\n",
    "        # update the sampled reward\n",
    "        sampled_reward += reward\n",
    "        \n",
    "        \n",
    "        # Model learning\n",
    "        agent.model[(state, action)] = (next_state, reward)\n",
    "        # Planning with simulated experiences\n",
    "        for _ in range(n_planning_steps):\n",
    "            simulated_state, simulated_action = list(agent.model.keys())[np.random.choice(len(agent.model))]\n",
    "            simulated_next_state, simulated_reward = agent.model[(simulated_state, simulated_action)]\n",
    "            agent.step(simulated_state, simulated_action, simulated_reward, simulated_next_state, done)\n",
    "\n",
    "        \n",
    "        # update the state\n",
    "        state = next_state\n",
    "        \n",
    "        if done:\n",
    "            # save final sampled reward\n",
    "            sampled_rewards.append(sampled_reward)\n",
    "            break\n",
    "            \n",
    "    # every 100 episodes compile average reward\n",
    "    if episode >= 100:\n",
    "        avg_reward = np.mean(sampled_rewards)\n",
    "        avg_rewards.append(avg_reward)\n",
    "        if avg_reward > best_avg_reward:\n",
    "            best_avg_reward = avg_reward\n",
    "            \n",
    "    # monitor\n",
    "    print(\n",
    "        \"\\rEpisode {}/{} || Best average reward {}\".format(\n",
    "            episode, num_episodes, best_avg_reward\n",
    "        ), end=\"\"\n",
    "    )\n",
    "    \n",
    "    # check if task is solved \n",
    "    if best_avg_reward >= reward_threshold:\n",
    "        print(\n",
    "            '\\nEnvironment solved in {} episodes.'.format(episode),\n",
    "            end=\"\"\n",
    "        )\n",
    "        break"
   ],
   "id": "929e791986abdc3b",
   "outputs": [
    {
     "name": "stdout",
     "output_type": "stream",
     "text": [
      "Episode 10000/10000 || Best average reward 4.161"
     ]
    }
   ],
   "execution_count": 4
  },
  {
   "metadata": {
    "ExecuteTime": {
     "end_time": "2024-09-27T12:01:25.967503Z",
     "start_time": "2024-09-27T12:01:25.876861Z"
    }
   },
   "cell_type": "code",
   "source": [
    "# Вычисление скользящего среднего\n",
    "window_size = 100\n",
    "moving_avg = np.convolve(avg_rewards, np.ones(window_size)/window_size, mode='valid')\n",
    "\n",
    "plt.plot(avg_rewards)\n",
    "plt.plot(moving_avg)\n",
    "plt.title('Dyna-Q')\n",
    "plt.xlabel('Episode')\n",
    "plt.ylabel('Reward')\n",
    "plt.show()"
   ],
   "id": "6fe5a6c38eb9d1ef",
   "outputs": [
    {
     "data": {
      "text/plain": [
       "<Figure size 640x480 with 1 Axes>"
      ],
      "image/png": "[encoded data removed]"
     },
     "metadata": {},
     "output_type": "display_data"
    }
   ],
   "execution_count": 5
  },
  {
   "metadata": {
    "ExecuteTime": {
     "end_time": "2024-09-27T12:01:25.971783Z",
     "start_time": "2024-09-27T12:01:25.968502Z"
    }
   },
   "cell_type": "code",
   "source": [
    "def record_video(env, agent, out_directory, fps=30):\n",
    "    images = []\n",
    "    done = False\n",
    "    state, _ = env.reset()\n",
    "    \n",
    "    img = env.render()\n",
    "    images.append(img)\n",
    "    \n",
    "    i = 0\n",
    "    while not done:\n",
    "        i += 1\n",
    "        \n",
    "        action = agent.select_action(state)\n",
    "        \n",
    "        state, reward, terminated, truncated, _ = env.step(action)\n",
    "        done = terminated or truncated\n",
    "        img = env.render()\n",
    "        images.append(img)\n",
    "        \n",
    "        if i > 2000:\n",
    "            break\n",
    "    imageio.mimsave('./result/test.gif',\n",
    "                    [np.array(img) for _, img in enumerate(images)],\n",
    "                    fps=fps)"
   ],
   "id": "cfb0cb846b9edb9c",
   "outputs": [],
   "execution_count": 6
  },
  {
   "metadata": {
    "ExecuteTime": {
     "end_time": "2024-09-27T12:01:26.454631Z",
     "start_time": "2024-09-27T12:01:25.972782Z"
    }
   },
   "cell_type": "code",
   "source": [
    "os.makedirs('./result/', exist_ok=True)\n",
    "env_name = 'Taxi-v3'\n",
    "\n",
    "env = gym.make(env_name, render_mode='rgb_array')\n",
    "record_video(env, agent, out_directory=None)"
   ],
   "id": "5760f63e3aa1aa1b",
   "outputs": [],
   "execution_count": 7
  }
 ],
 "metadata": {
  "kernelspec": {
   "display_name": "Python 3",
   "language": "python",
   "name": "python3"
  },
  "language_info": {
   "codemirror_mode": {
    "name": "ipython",
    "version": 2
   },
   "file_extension": ".py",
   "mimetype": "text/x-python",
   "name": "python",
   "nbconvert_exporter": "python",
   "pygments_lexer": "ipython2",
   "version": "2.7.6"
  }
 },
 "nbformat": 4,
 "nbformat_minor": 5
}
